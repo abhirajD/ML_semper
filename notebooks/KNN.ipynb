{
 "cells": [
  {
   "cell_type": "code",
   "execution_count": 2,
   "metadata": {
    "collapsed": true
   },
   "outputs": [],
   "source": [
    "# We start with the Wisconsin Breast Cancer dataset first ...\n",
    "from sklearn import datasets\n",
    "BC = datasets.load_breast_cancer()"
   ]
  },
  {
   "cell_type": "code",
   "execution_count": 4,
   "metadata": {
    "collapsed": true
   },
   "outputs": [],
   "source": [
    "from sklearn.model_selection import train_test_split\n",
    "X = BC['data']\n",
    "y = BC['target']\n",
    "x_train, x_test, y_train, y_test = train_test_split(X, y, test_size = .25)"
   ]
  },
  {
   "cell_type": "code",
   "execution_count": 23,
   "metadata": {
    "collapsed": true
   },
   "outputs": [],
   "source": [
    "from sklearn.neighbors import KNeighborsClassifier\n",
    "KNN = KNeighborsClassifier(n_neighbors=5)"
   ]
  },
  {
   "cell_type": "code",
   "execution_count": 24,
   "metadata": {},
   "outputs": [
    {
     "data": {
      "text/plain": [
       "KNeighborsClassifier(algorithm='auto', leaf_size=30, metric='minkowski',\n",
       "           metric_params=None, n_jobs=1, n_neighbors=5, p=2,\n",
       "           weights='uniform')"
      ]
     },
     "execution_count": 24,
     "metadata": {},
     "output_type": "execute_result"
    }
   ],
   "source": [
    "KNN.fit(x_train,y_train)"
   ]
  },
  {
   "cell_type": "code",
   "execution_count": 25,
   "metadata": {
    "collapsed": true
   },
   "outputs": [],
   "source": [
    "predictions = KNN.predict(x_test)"
   ]
  },
  {
   "cell_type": "code",
   "execution_count": 26,
   "metadata": {},
   "outputs": [
    {
     "name": "stdout",
     "output_type": "stream",
     "text": [
      "[[47  7]\n",
      " [ 4 85]]\n"
     ]
    }
   ],
   "source": [
    "from sklearn.metrics import classification_report,confusion_matrix\n",
    "print(confusion_matrix(y_test,predictions))"
   ]
  },
  {
   "cell_type": "code",
   "execution_count": 27,
   "metadata": {},
   "outputs": [
    {
     "data": {
      "text/plain": [
       "0.92307692307692313"
      ]
     },
     "execution_count": 27,
     "metadata": {},
     "output_type": "execute_result"
    }
   ],
   "source": [
    "KNN.score(x_test,y_test)"
   ]
  },
  {
   "cell_type": "code",
   "execution_count": 28,
   "metadata": {},
   "outputs": [
    {
     "name": "stdout",
     "output_type": "stream",
     "text": [
      "1 0.895104895105\n",
      "2 0.916083916084\n",
      "3 0.93006993007\n",
      "4 0.937062937063\n",
      "5 0.923076923077\n",
      "6 0.923076923077\n",
      "7 0.923076923077\n",
      "8 0.93006993007\n",
      "9 0.93006993007\n",
      "10 0.937062937063\n",
      "11 0.93006993007\n",
      "12 0.937062937063\n",
      "13 0.93006993007\n",
      "14 0.93006993007\n",
      "15 0.916083916084\n",
      "16 0.923076923077\n",
      "17 0.909090909091\n",
      "18 0.916083916084\n",
      "19 0.916083916084\n"
     ]
    }
   ],
   "source": [
    "# What k works best? Let's try several ...\n",
    "for k in range(1,20):\n",
    "        KNN = KNeighborsClassifier(n_neighbors=k)\n",
    "        KNN.fit(x_train,y_train)\n",
    "        print(k, KNN.score(x_test,y_test))"
   ]
  },
  {
   "cell_type": "code",
   "execution_count": 5,
   "metadata": {
    "collapsed": true
   },
   "outputs": [],
   "source": [
    "# Now let's try the regression method \n",
    "diabetes = datasets.load_diabetes()\n",
    "x_train, x_test, y_train, y_test = train_test_split(diabetes.data, diabetes.target,\n",
    "                                                        test_size=0.25)"
   ]
  },
  {
   "cell_type": "code",
   "execution_count": 33,
   "metadata": {
    "collapsed": true
   },
   "outputs": [],
   "source": [
    "from sklearn.neighbors import KNeighborsRegressor\n",
    "KNNRegr = KNeighborsRegressor(n_neighbors=5)"
   ]
  },
  {
   "cell_type": "code",
   "execution_count": 34,
   "metadata": {},
   "outputs": [
    {
     "data": {
      "text/plain": [
       "KNeighborsRegressor(algorithm='auto', leaf_size=30, metric='minkowski',\n",
       "          metric_params=None, n_jobs=1, n_neighbors=5, p=2,\n",
       "          weights='uniform')"
      ]
     },
     "execution_count": 34,
     "metadata": {},
     "output_type": "execute_result"
    }
   ],
   "source": [
    "KNNRegr.fit(x_train,y_train)"
   ]
  },
  {
   "cell_type": "code",
   "execution_count": 35,
   "metadata": {
    "collapsed": true
   },
   "outputs": [],
   "source": [
    "predictions = KNNRegr.predict(x_test)"
   ]
  },
  {
   "cell_type": "code",
   "execution_count": 36,
   "metadata": {},
   "outputs": [
    {
     "data": {
      "text/plain": [
       "3257.5682882882879"
      ]
     },
     "execution_count": 36,
     "metadata": {},
     "output_type": "execute_result"
    }
   ],
   "source": [
    "sum((predictions - y_test)**2)/len(predictions)"
   ]
  },
  {
   "cell_type": "code",
   "execution_count": 37,
   "metadata": {},
   "outputs": [
    {
     "name": "stdout",
     "output_type": "stream",
     "text": [
      "1 5192.63963964\n",
      "2 4411.15765766\n",
      "3 3822.20720721\n",
      "4 3339.23704955\n",
      "5 3257.56828829\n",
      "6 3222.11511512\n",
      "7 3260.92737636\n",
      "8 3374.203125\n",
      "9 3294.26837949\n",
      "10 3304.76738739\n",
      "11 3303.66227384\n",
      "12 3317.28284535\n",
      "13 3293.38418892\n",
      "14 3267.97949991\n",
      "15 3176.198999\n",
      "16 3136.87837838\n",
      "17 3051.80660245\n",
      "18 3027.72049828\n",
      "19 3061.92755359\n"
     ]
    }
   ],
   "source": [
    "for k in range(1,20):\n",
    "        KNNRegr = KNeighborsRegressor(n_neighbors=k)\n",
    "        KNNRegr.fit(x_train,y_train)\n",
    "        predictions = KNNRegr.predict(x_test)\n",
    "        MSE = sum((predictions - y_test)**2)/len(predictions)\n",
    "        print(k, MSE)"
   ]
  },
  {
   "cell_type": "code",
   "execution_count": 38,
   "metadata": {},
   "outputs": [
    {
     "data": {
      "text/plain": [
       "5"
      ]
     },
     "execution_count": 38,
     "metadata": {},
     "output_type": "execute_result"
    }
   ],
   "source": [
    "# Let's kick it up a notch ...\n",
    "from sklearn.model_selection import KFold\n",
    "kf = KFold(n_splits=5)\n",
    "kf.get_n_splits(diabetes.data)"
   ]
  },
  {
   "cell_type": "code",
   "execution_count": 39,
   "metadata": {},
   "outputs": [
    {
     "name": "stdout",
     "output_type": "stream",
     "text": [
      "1 5446.77474464\n",
      "2 4225.1258427\n",
      "3 4033.73106912\n",
      "4 3667.08750958\n",
      "5 3620.91615322\n",
      "6 3528.18456404\n",
      "7 3501.11700819\n",
      "8 3399.07691642\n",
      "9 3290.33066243\n",
      "10 3308.64473749\n",
      "11 3246.18153728\n",
      "12 3239.13922937\n",
      "13 3241.75508912\n",
      "14 3190.87956643\n",
      "15 3187.56673556\n",
      "16 3184.46931639\n",
      "17 3200.87779043\n",
      "18 3205.17109421\n",
      "19 3172.37500233\n"
     ]
    }
   ],
   "source": [
    "for k in range(1,20):\n",
    "    MSE = 0\n",
    "    for train_index, test_index in kf.split(diabetes.data):\n",
    "        KNNRegr = KNeighborsRegressor(n_neighbors=k)\n",
    "        KNNRegr.fit(diabetes.data[train_index],diabetes.target[train_index])\n",
    "        predictions = KNNRegr.predict(diabetes.data[test_index])\n",
    "        MSE += sum((predictions - diabetes.target[test_index])**2)/len(predictions)\n",
    "        \n",
    "    print(k, MSE/5.0)"
   ]
  },
  {
   "cell_type": "code",
   "execution_count": 40,
   "metadata": {
    "collapsed": true
   },
   "outputs": [],
   "source": [
    "# Seems to indicate a fairly linear behavior in the data"
   ]
  },
  {
   "cell_type": "code",
   "execution_count": 2,
   "metadata": {
    "collapsed": true
   },
   "outputs": [],
   "source": [
    "import pandas as pd\n",
    "data = pd.read_csv('PythonData/abalone.data', header=0)"
   ]
  },
  {
   "cell_type": "code",
   "execution_count": 3,
   "metadata": {},
   "outputs": [
    {
     "data": {
      "text/plain": [
       "(4177, 9)"
      ]
     },
     "execution_count": 3,
     "metadata": {},
     "output_type": "execute_result"
    }
   ],
   "source": [
    "data.shape"
   ]
  },
  {
   "cell_type": "code",
   "execution_count": null,
   "metadata": {
    "collapsed": true
   },
   "outputs": [],
   "source": []
  }
 ],
 "metadata": {
  "kernelspec": {
   "display_name": "Python 3",
   "language": "python",
   "name": "python3"
  },
  "language_info": {
   "codemirror_mode": {
    "name": "ipython",
    "version": 3
   },
   "file_extension": ".py",
   "mimetype": "text/x-python",
   "name": "python",
   "nbconvert_exporter": "python",
   "pygments_lexer": "ipython3",
   "version": "3.6.3"
  }
 },
 "nbformat": 4,
 "nbformat_minor": 2
}
