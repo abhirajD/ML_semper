{
 "cells": [
  {
   "cell_type": "code",
   "execution_count": 1,
   "metadata": {
    "collapsed": true
   },
   "outputs": [],
   "source": [
    "# We'll build this using only numpy\n",
    "import numpy as np"
   ]
  },
  {
   "cell_type": "code",
   "execution_count": 2,
   "metadata": {
    "collapsed": true
   },
   "outputs": [],
   "source": [
    "# We'll do a very simple dataset to demonstrate:\n",
    "#Input array\n",
    "X=np.array([[1,0,1,0],[1,0,1,1],[0,1,0,1]])\n",
    "\n",
    "#Output\n",
    "y=np.array([[1],[1],[0]])"
   ]
  },
  {
   "cell_type": "code",
   "execution_count": 4,
   "metadata": {
    "collapsed": true
   },
   "outputs": [],
   "source": [
    "# We will use the sigmoid function for an activation function.\n",
    "# Here we define a couple of useful functions:\n",
    "\n",
    "#Sigmoid Function\n",
    "def sigmoid (x):\n",
    "    return 1/(1 + np.exp(-x))\n",
    "\n",
    "#Derivative of Sigmoid Function\n",
    "def derivatives_sigmoid(x):\n",
    "    return x * (1 - x)"
   ]
  },
  {
   "cell_type": "code",
   "execution_count": 5,
   "metadata": {
    "collapsed": true
   },
   "outputs": [],
   "source": [
    "# Here we do Variable initialization\n",
    "\n",
    "epoch=5000  # Setting training iterations - an epoch is an iteration\n",
    "lr=0.1      # Setting learning rate\n",
    "inputlayer_neurons = X.shape[1] # number of features in data set, namely 4\n",
    "hiddenlayer_neurons = 3         # number of hidden layers neurons\n",
    "output_neurons = 1              # number of neurons at output layer"
   ]
  },
  {
   "cell_type": "code",
   "execution_count": 6,
   "metadata": {
    "collapsed": true
   },
   "outputs": [],
   "source": [
    "# our model will use a bias. Here we set intial values for the weights. Note there is\n",
    "# one bias weight for the hidden layer and one for the output layer\n",
    "\n",
    "wh=np.random.uniform(size=(inputlayer_neurons,hiddenlayer_neurons))\n",
    "bh=np.random.uniform(size=(1,hiddenlayer_neurons))\n",
    "wout=np.random.uniform(size=(hiddenlayer_neurons,output_neurons))\n",
    "bout=np.random.uniform(size=(1,output_neurons))"
   ]
  },
  {
   "cell_type": "code",
   "execution_count": 7,
   "metadata": {
    "collapsed": true
   },
   "outputs": [],
   "source": [
    "# Here we train the model.\n",
    "\n",
    "for i in range(epoch):\n",
    "\n",
    "    # Forward Propogation. First take the dot product of the input nodes with the\n",
    "    # weights for the hidden layer, and add the bias:\n",
    "    hidden_layer_input1=np.dot(X,wh)\n",
    "    hidden_layer_input=hidden_layer_input1 + bh\n",
    "    \n",
    "    # Now feed the result into the activation function for the hidden nodes:\n",
    "    hiddenlayer_activations = sigmoid(hidden_layer_input)\n",
    "    \n",
    "    # Now dot the output from the hidden nodes with the output weights and add bias:\n",
    "    output_layer_input1=np.dot(hiddenlayer_activations,wout)\n",
    "    output_layer_input= output_layer_input1+ bout\n",
    "    \n",
    "    # Finally, feed the result into the activation function for the output:\n",
    "    output = sigmoid(output_layer_input)\n",
    "\n",
    "    # Backpropagation. First compute the error for the training example:\n",
    "    E = y-output\n",
    "    \n",
    "    # Here we compute the derivatives of the sigmoid functions evaluated at the outputs;\n",
    "    # This is the o(1-o) term we saw in the back propagation formula\n",
    "    slope_output_layer = derivatives_sigmoid(output)\n",
    "    slope_hidden_layer = derivatives_sigmoid(hiddenlayer_activations)\n",
    "    \n",
    "    # Now we compute the output delta\n",
    "    d_output = E * slope_output_layer\n",
    "    \n",
    "    # Here we use the output delta to compute the error at the hidden node ...\n",
    "    Error_at_hidden_layer = d_output.dot(wout.T)\n",
    "    \n",
    "    # And now we compute the deltas for the hidden nodes ...\n",
    "    d_hiddenlayer = Error_at_hidden_layer * slope_hidden_layer\n",
    "    \n",
    "    # Finally we update the weights\n",
    "    wout += hiddenlayer_activations.T.dot(d_output) *lr\n",
    "    bout += np.sum(d_output, axis=0,keepdims=True) *lr\n",
    "    wh += X.T.dot(d_hiddenlayer) *lr\n",
    "    bh += np.sum(d_hiddenlayer, axis=0,keepdims=True) *lr"
   ]
  },
  {
   "cell_type": "code",
   "execution_count": 8,
   "metadata": {},
   "outputs": [
    {
     "name": "stdout",
     "output_type": "stream",
     "text": [
      "[[ 0.9779316 ]\n",
      " [ 0.97108362]\n",
      " [ 0.0379108 ]]\n"
     ]
    }
   ],
   "source": [
    "# Here is the final output:\n",
    "print(output)"
   ]
  },
  {
   "cell_type": "code",
   "execution_count": 10,
   "metadata": {},
   "outputs": [
    {
     "name": "stdout",
     "output_type": "stream",
     "text": [
      "[[ 0.86484368]]\n"
     ]
    }
   ],
   "source": [
    "# If we want to use the model to make a prediction at a new data point, we \n",
    "# could just use the forward propogation part of the code again and just feed\n",
    "# in the new values.\n",
    "\n",
    "X = [0,0,1,1]\n",
    "hidden_layer_input1=np.dot(X,wh)\n",
    "hidden_layer_input=hidden_layer_input1 + bh\n",
    "\n",
    "hiddenlayer_activations = sigmoid(hidden_layer_input)\n",
    "    \n",
    "output_layer_input1=np.dot(hiddenlayer_activations,wout)\n",
    "output_layer_input= output_layer_input1+ bout\n",
    "    \n",
    "output = sigmoid(output_layer_input)\n",
    "\n",
    "print(output)"
   ]
  },
  {
   "cell_type": "code",
   "execution_count": 11,
   "metadata": {
    "collapsed": true
   },
   "outputs": [],
   "source": [
    "# The model would predict a '1' for this data point."
   ]
  }
 ],
 "metadata": {
  "kernelspec": {
   "display_name": "Python 3",
   "language": "python",
   "name": "python3"
  },
  "language_info": {
   "codemirror_mode": {
    "name": "ipython",
    "version": 3
   },
   "file_extension": ".py",
   "mimetype": "text/x-python",
   "name": "python",
   "nbconvert_exporter": "python",
   "pygments_lexer": "ipython3",
   "version": "3.6.3"
  }
 },
 "nbformat": 4,
 "nbformat_minor": 2
}
