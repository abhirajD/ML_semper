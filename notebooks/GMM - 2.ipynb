{
 "cells": [
  {
   "cell_type": "code",
   "execution_count": 1,
   "metadata": {
    "collapsed": true
   },
   "outputs": [],
   "source": [
    "# We compare the clustering methods using the breast cancer dataset\n",
    "from sklearn import datasets\n",
    "from sklearn.metrics import confusion_matrix\n",
    "from sklearn.cluster import KMeans\n",
    "from sklearn.cluster import AgglomerativeClustering\n",
    "from sklearn.mixture import GaussianMixture\n",
    "\n",
    "BC = datasets.load_breast_cancer()\n",
    "X = BC.data"
   ]
  },
  {
   "cell_type": "code",
   "execution_count": 2,
   "metadata": {
    "collapsed": true
   },
   "outputs": [],
   "source": [
    "# First we check K-means ...\n",
    "kmeans = KMeans(n_clusters=2)\n",
    "kmeans.fit(X)\n",
    "y_kmeans = kmeans.predict(X)"
   ]
  },
  {
   "cell_type": "code",
   "execution_count": 3,
   "metadata": {},
   "outputs": [
    {
     "name": "stdout",
     "output_type": "stream",
     "text": [
      "[[130   1]\n",
      " [ 82 356]]\n"
     ]
    }
   ],
   "source": [
    "print(confusion_matrix(y_kmeans, BC.target))"
   ]
  },
  {
   "cell_type": "code",
   "execution_count": 4,
   "metadata": {
    "collapsed": true
   },
   "outputs": [],
   "source": [
    "# now we check H-Clust\n",
    "model = AgglomerativeClustering() \n",
    "model.fit(X)\n",
    "y_hclust = model.labels_"
   ]
  },
  {
   "cell_type": "code",
   "execution_count": 5,
   "metadata": {},
   "outputs": [
    {
     "name": "stdout",
     "output_type": "stream",
     "text": [
      "[[126 357]\n",
      " [ 86   0]]\n"
     ]
    }
   ],
   "source": [
    "print(confusion_matrix(y_hclust, BC.target))"
   ]
  },
  {
   "cell_type": "code",
   "execution_count": 6,
   "metadata": {
    "collapsed": true
   },
   "outputs": [],
   "source": [
    "# Finally, GMM ...\n",
    "gmm = GaussianMixture(n_components=2).fit(X)\n",
    "y_gmm = gmm.predict(X)"
   ]
  },
  {
   "cell_type": "code",
   "execution_count": 7,
   "metadata": {},
   "outputs": [
    {
     "name": "stdout",
     "output_type": "stream",
     "text": [
      "[[ 17 346]\n",
      " [195  11]]\n"
     ]
    }
   ],
   "source": [
    "print(confusion_matrix(y_gmm, BC.target))"
   ]
  },
  {
   "cell_type": "code",
   "execution_count": 9,
   "metadata": {
    "collapsed": true
   },
   "outputs": [],
   "source": [
    "from sklearn.metrics import accuracy_score"
   ]
  },
  {
   "cell_type": "code",
   "execution_count": 10,
   "metadata": {},
   "outputs": [
    {
     "name": "stdout",
     "output_type": "stream",
     "text": [
      "K-Means Accuracy:  0.854130052724\n",
      "H-Cluster Accuracy:  0.77855887522\n",
      "GMM Accuracy:  0.95079086116\n"
     ]
    }
   ],
   "source": [
    "print( \"K-Means Accuracy: \", accuracy_score(y_kmeans, BC.target))\n",
    "print( \"H-Cluster Accuracy: \", 1 - accuracy_score(y_hclust, BC.target))\n",
    "print( \"GMM Accuracy: \", 1- accuracy_score(y_gmm, BC.target))"
   ]
  },
  {
   "cell_type": "code",
   "execution_count": null,
   "metadata": {
    "collapsed": true
   },
   "outputs": [],
   "source": []
  }
 ],
 "metadata": {
  "kernelspec": {
   "display_name": "Python 3",
   "language": "python",
   "name": "python3"
  },
  "language_info": {
   "codemirror_mode": {
    "name": "ipython",
    "version": 3
   },
   "file_extension": ".py",
   "mimetype": "text/x-python",
   "name": "python",
   "nbconvert_exporter": "python",
   "pygments_lexer": "ipython3",
   "version": "3.6.3"
  }
 },
 "nbformat": 4,
 "nbformat_minor": 2
}
