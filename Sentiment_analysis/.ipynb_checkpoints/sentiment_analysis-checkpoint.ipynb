{
 "cells": [
  {
   "cell_type": "code",
   "execution_count": 1,
   "metadata": {
    "collapsed": true
   },
   "outputs": [],
   "source": [
    "import re\n",
    "import csv"
   ]
  },
  {
   "cell_type": "code",
   "execution_count": 2,
   "metadata": {},
   "outputs": [],
   "source": [
    "\n",
    "with open('Data_sets/textTrainData.csv', encoding = 'utf-8') as f:\n",
    "  dataset = csv.reader(f)\n",
    "  dataset = list(dataset)"
   ]
  },
  {
   "cell_type": "code",
   "execution_count": 3,
   "metadata": {},
   "outputs": [],
   "source": [
    "def preprocess_text(raw_string):\n",
    "  #Eliminate conflicting alphanum words\n",
    "  raw_string = re.sub(r'\\.( [a-z])', '\\g<1>', raw_string) #A period followed by a lowercase isnt a new sentence\n",
    "  raw_string = re.sub(r'\\'s','', raw_string) #Remove \"'s\" from for eg Apple's\n",
    "\n",
    "  #Keep only Alpha\n",
    "  raw_string = re.sub(r'[!,\\(\\)\\[\\]\"\\'—?:;]','', raw_string)\n",
    "  raw_string = re.sub(r'[-/]', ' ', raw_string)\n",
    "\n",
    "  #Handle Start and end of sentence\n",
    "  raw_string = '<s> ' + raw_string[:-1] + ' <\\s>' if raw_string.endswith('.') else '<s> ' + raw_string + ' <\\s>'\n",
    "  raw_string = re.sub(r'\\. ([A-Z\\t\\n])',' <\\s> <s> \\g<1>', raw_string)\n",
    "  raw_string = re.sub(r'[\\n\\t]', ' ', raw_string)\n",
    "\n",
    "  raw_string = raw_string.lower()\n",
    "  #Handle additional spaces\n",
    "  raw_string = re.sub(r' {2,}', ' ', raw_string)\n",
    "  \n",
    "  #Handle additional periods\n",
    "  raw_string = re.sub(r'.{1,}',' ',raw_string)\n",
    "  return raw_string"
   ]
  },
  {
   "cell_type": "code",
   "execution_count": 4,
   "metadata": {},
   "outputs": [],
   "source": [
    "doc_list = [preprocess_text(row[0]) for row in dataset[1:]]"
   ]
  },
  {
   "cell_type": "code",
   "execution_count": 5,
   "metadata": {},
   "outputs": [],
   "source": [
    "class tfidf():\n",
    "  def __init__(self,document_list):\n",
    "    self.document_list = document_list\n",
    "    \n",
    "    #Get the vocab\n",
    "    self.vocabulary = set()\n",
    "    for document in self.document_list:\n",
    "      self.vocabulary |= set(document.split(' '))\n",
    "      \n",
    "  def get_tf(self):\n",
    "    #Calc TF\n",
    "    pass\n",
    "  \n",
    "  def get_idf(self):\n",
    "    #Calc IDF\n",
    "    pass"
   ]
  },
  {
   "cell_type": "code",
   "execution_count": 6,
   "metadata": {},
   "outputs": [],
   "source": [
    "a = tfidf(doc_list)"
   ]
  },
  {
   "cell_type": "code",
   "execution_count": 7,
   "metadata": {},
   "outputs": [
    {
     "data": {
      "text/plain": [
       "{''}"
      ]
     },
     "execution_count": 7,
     "metadata": {},
     "output_type": "execute_result"
    }
   ],
   "source": [
    "a.vocabulary"
   ]
  },
  {
   "cell_type": "code",
   "execution_count": 27,
   "metadata": {},
   "outputs": [],
   "source": [
    "temp_doc_list = [[preprocess_text(row[0]),row[0]] for row in dataset[1:]]"
   ]
  },
  {
   "cell_type": "code",
   "execution_count": 32,
   "metadata": {},
   "outputs": [],
   "source": [
    "import csv\n",
    "with open('eggs.csv', 'w') as csvfile:\n",
    "    spamwriter = csv.writer(csvfile)\n",
    "    for row in temp_doc_list:\n",
    "      spamwriter.writerow([s.encode(\"utf-8\") for s in row])"
   ]
  },
  {
   "cell_type": "code",
   "execution_count": null,
   "metadata": {
    "collapsed": true
   },
   "outputs": [],
   "source": []
  }
 ],
 "metadata": {
  "kernelspec": {
   "display_name": "Python 3",
   "language": "python",
   "name": "python3"
  },
  "language_info": {
   "codemirror_mode": {
    "name": "ipython",
    "version": 3
   },
   "file_extension": ".py",
   "mimetype": "text/x-python",
   "name": "python",
   "nbconvert_exporter": "python",
   "pygments_lexer": "ipython3",
   "version": "3.6.3"
  }
 },
 "nbformat": 4,
 "nbformat_minor": 2
}
